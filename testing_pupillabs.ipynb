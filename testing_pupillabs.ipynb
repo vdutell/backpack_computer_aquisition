{
 "cells": [
  {
   "cell_type": "code",
   "execution_count": 1,
   "metadata": {},
   "outputs": [],
   "source": [
    "import imp\n",
    "from time import sleep, time\n",
    "\n",
    "#import pupil.pupil_src.main as pup_start\n",
    "import pupil_cam_aquire_save as pup\n",
    "import zmq_socket as zmqs\n"
   ]
  },
  {
   "cell_type": "markdown",
   "metadata": {},
   "source": [
    "## Start Instance of Pupil Source\n",
    "python ./pupil/pupil_src/main.py capture   \n",
    "OR   \n",
    "just click the GUI"
   ]
  },
  {
   "cell_type": "code",
   "execution_count": 2,
   "metadata": {},
   "outputs": [],
   "source": [
    "port = 46173 #command line start\n",
    "#port = 50020 #gui start\n",
    "\n",
    "save_dir_name = '/home/vasha/code/backpack_computer_aquisition/test/pupil'\n",
    "collection_minutes=0.5"
   ]
  },
  {
   "cell_type": "code",
   "execution_count": 3,
   "metadata": {},
   "outputs": [
    {
     "name": "stdout",
     "output_type": "stream",
     "text": [
      "PUPIL_CAM Connecting to socket at 127.0.0.1:46173 ...\n",
      "Timesync successful.\n",
      "PUPIL_CAM Beginning Recording for max 0.5 mins...\n",
      "PUPIL_CAM Finished PupilLabs Aquisition.\n"
     ]
    }
   ],
   "source": [
    "imp.reload(pup)\n",
    "pup.run_pupillabs_aquisition(save_dir_name, collection_minutes, port)"
   ]
  },
  {
   "cell_type": "markdown",
   "metadata": {},
   "source": [
    "## Read in Data"
   ]
  },
  {
   "cell_type": "code",
   "execution_count": 4,
   "metadata": {},
   "outputs": [
    {
     "data": {
      "text/plain": [
       "array([1.57109251e+09, 1.57109251e+09, 1.57109251e+09, ...,\n",
       "       1.57109252e+09, 1.57109252e+09, 1.57109252e+09])"
      ]
     },
     "execution_count": 4,
     "metadata": {},
     "output_type": "execute_result"
    }
   ],
   "source": [
    "import numpy as np\n",
    "import os\n",
    "data_location = os.path.join(save_dir_name, '000', 'pupil_timestamps.npy')\n",
    "np.load(data_location)"
   ]
  },
  {
   "cell_type": "code",
   "execution_count": null,
   "metadata": {},
   "outputs": [],
   "source": []
  }
 ],
 "metadata": {
  "kernelspec": {
   "display_name": "Python 3",
   "language": "python",
   "name": "python3"
  },
  "language_info": {
   "codemirror_mode": {
    "name": "ipython",
    "version": 3
   },
   "file_extension": ".py",
   "mimetype": "text/x-python",
   "name": "python",
   "nbconvert_exporter": "python",
   "pygments_lexer": "ipython3",
   "version": "3.6.8"
  }
 },
 "nbformat": 4,
 "nbformat_minor": 2
}
