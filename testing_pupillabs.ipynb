{
 "cells": [
  {
   "cell_type": "code",
   "execution_count": 5,
   "metadata": {},
   "outputs": [],
   "source": [
    "import imp\n",
    "import zmq_socket as zmqs\n",
    "from time import sleep, time\n",
    "\n",
    "#import pupil.pupil_src.main as pup_start\n",
    "#import pupil_cam_aquire_save as pup"
   ]
  },
  {
   "cell_type": "markdown",
   "metadata": {},
   "source": [
    "## Start Instance of Pupil Source\n",
    "python ./pupil/pupil_src/main.py capture"
   ]
  },
  {
   "cell_type": "code",
   "execution_count": 11,
   "metadata": {},
   "outputs": [],
   "source": [
    "port = 46183 #command line start\n",
    "save_dir_name = '/home/vasha/code/backpack_computer_aquisition/test/pupil'\n",
    "#ip = '10.142.20.154'\n",
    "#port = 50020 #gui start"
   ]
  },
  {
   "cell_type": "code",
   "execution_count": 12,
   "metadata": {},
   "outputs": [
    {
     "name": "stdout",
     "output_type": "stream",
     "text": [
      "Done!\n",
      "Make sure the ports match with Pupil Capture Remote Plugin and the one in zmq_pocket.py\n",
      "Connecting to socket at 127.0.0.1:46183 ...\n",
      "Connected!\n",
      "Timesync successful.\n",
      "saving at /home/vasha/code/backpack_computer_aquisition/test/pupil\n",
      "Script completed.\n"
     ]
    }
   ],
   "source": [
    "imp.reload(zmqs)\n",
    "\n",
    "print('Make sure the ports match with Pupil Capture Remote Plugin and the one in zmq_pocket.py')\n",
    "socket = zmqs.ZMQsocket(port=port)\n",
    "socket.connect()\n",
    "# socket.start_calibration()\n",
    "\n",
    "# Grab the time module for timesync\n",
    "time_fn = time\n",
    "\n",
    "# Sync time\n",
    "print(socket.set_time(time_fn))\n",
    "\n",
    "# # Start the notifications puglin\n",
    "socket.notify({'subject': 'start_plugin', 'name': 'Annotation_Capture', 'args': {}})\n",
    "#\n",
    "socket.start_recording(dir_name=save_dir_name) # commenting this out to test something, needs to be uncommented later.\n",
    "\n",
    "sleep(1.)\n",
    "\n",
    "# Send some annotations\n",
    "socket.annotation('start_trial', 0)\n",
    "sleep(5.)  # sleep a bit\n",
    "\n",
    "socket.annotation('end_trial', 0)\n",
    "sleep(1.)\n",
    "\n",
    "# Finish up\n",
    "socket.stop_recording()\n",
    "print('Script completed.')\n"
   ]
  },
  {
   "cell_type": "code",
   "execution_count": 12,
   "metadata": {},
   "outputs": [
    {
     "ename": "TypeError",
     "evalue": "'module' object is not callable",
     "output_type": "error",
     "traceback": [
      "\u001b[0;31m---------------------------------------------------------------------------\u001b[0m",
      "\u001b[0;31mTypeError\u001b[0m                                 Traceback (most recent call last)",
      "\u001b[0;32m<ipython-input-12-8a3286623228>\u001b[0m in \u001b[0;36m<module>\u001b[0;34m\u001b[0m\n\u001b[0;32m----> 1\u001b[0;31m \u001b[0mpup\u001b[0m\u001b[0;34m.\u001b[0m\u001b[0mrun_pupillabs_aquisition\u001b[0m\u001b[0;34m(\u001b[0m\u001b[0;34m'test/pupil/'\u001b[0m\u001b[0;34m,\u001b[0m \u001b[0mcollection_mins\u001b[0m\u001b[0;34m)\u001b[0m\u001b[0;34m\u001b[0m\u001b[0;34m\u001b[0m\u001b[0m\n\u001b[0m",
      "\u001b[0;32m~/code/backpack_computer_aquisition/pupil_cam_aquire_save.py\u001b[0m in \u001b[0;36mrun_pupillabs_aquisition\u001b[0;34m(save_folder, collection_mins, component_name)\u001b[0m\n\u001b[1;32m     11\u001b[0m         \u001b[0;32mNone\u001b[0m\u001b[0;34m\u001b[0m\u001b[0;34m\u001b[0m\u001b[0m\n\u001b[1;32m     12\u001b[0m     '''\n\u001b[0;32m---> 13\u001b[0;31m     \u001b[0mpup_start\u001b[0m\u001b[0;34m.\u001b[0m\u001b[0mmain\u001b[0m\u001b[0;34m(\u001b[0m\u001b[0;34m)\u001b[0m\u001b[0;34m\u001b[0m\u001b[0;34m\u001b[0m\u001b[0m\n\u001b[0m\u001b[1;32m     14\u001b[0m \u001b[0;34m\u001b[0m\u001b[0m\n\u001b[1;32m     15\u001b[0m     \u001b[0mprint\u001b[0m\u001b[0;34m(\u001b[0m\u001b[0;34mf'{component_name} Finished PupilLabs Aquisition.'\u001b[0m\u001b[0;34m)\u001b[0m\u001b[0;34m\u001b[0m\u001b[0;34m\u001b[0m\u001b[0m\n",
      "\u001b[0;31mTypeError\u001b[0m: 'module' object is not callable"
     ]
    }
   ],
   "source": [
    "pup.run_pupillabs_aquisition('test/pupil/', collection_mins)"
   ]
  },
  {
   "cell_type": "code",
   "execution_count": null,
   "metadata": {},
   "outputs": [],
   "source": []
  },
  {
   "cell_type": "code",
   "execution_count": 18,
   "metadata": {},
   "outputs": [
    {
     "ename": "AttributeError",
     "evalue": "module 'pupil.pupil_src' has no attribute 'main'",
     "output_type": "error",
     "traceback": [
      "\u001b[0;31m---------------------------------------------------------------------------\u001b[0m",
      "\u001b[0;31mAttributeError\u001b[0m                            Traceback (most recent call last)",
      "\u001b[0;32m<ipython-input-18-05369035c023>\u001b[0m in \u001b[0;36m<module>\u001b[0;34m\u001b[0m\n\u001b[0;32m----> 1\u001b[0;31m \u001b[0mpup_start\u001b[0m\u001b[0;34m.\u001b[0m\u001b[0mmain\u001b[0m\u001b[0;34m\u001b[0m\u001b[0;34m\u001b[0m\u001b[0m\n\u001b[0m",
      "\u001b[0;31mAttributeError\u001b[0m: module 'pupil.pupil_src' has no attribute 'main'"
     ]
    }
   ],
   "source": [
    "pup_start.main"
   ]
  },
  {
   "cell_type": "code",
   "execution_count": null,
   "metadata": {},
   "outputs": [],
   "source": []
  }
 ],
 "metadata": {
  "kernelspec": {
   "display_name": "Python 3",
   "language": "python",
   "name": "python3"
  },
  "language_info": {
   "codemirror_mode": {
    "name": "ipython",
    "version": 3
   },
   "file_extension": ".py",
   "mimetype": "text/x-python",
   "name": "python",
   "nbconvert_exporter": "python",
   "pygments_lexer": "ipython3",
   "version": "3.6.8"
  }
 },
 "nbformat": 4,
 "nbformat_minor": 2
}
