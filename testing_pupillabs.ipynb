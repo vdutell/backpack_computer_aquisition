{
 "cells": [
  {
   "cell_type": "code",
   "execution_count": 5,
   "metadata": {},
   "outputs": [],
   "source": [
    "import imp\n",
    "from time import sleep, time\n",
    "import msgpack\n",
    "\n",
    "#import pupil.pupil_src.main as pup_start\n",
    "import pupil_cam_aquire_save as pup\n",
    "import zmq_socket as zmqs\n",
    "\n",
    "import matplotlib.pyplot as plt\n",
    "#import pupil.pupil_src.shared_modules.file_methods as pupfm\n",
    "#mport analysis_funcs.bdd_analysis as bda\n",
    "#mport bdd_\n",
    "#import bdd_driveratt.eye_tracking.analysis.code.functions.et_helper as eth"
   ]
  },
  {
   "cell_type": "markdown",
   "metadata": {},
   "source": [
    "## Start Instance of Pupil Source\n",
    "python ./pupil/pupil_src/main.py capture   \n",
    "OR   \n",
    "just click the GUI"
   ]
  },
  {
   "cell_type": "code",
   "execution_count": 6,
   "metadata": {},
   "outputs": [],
   "source": [
    "pupil_port = 41227#command line start\n",
    "#pupil_port = 50020 #gui start\n",
    "\n",
    "save_dir_name = '/home/vasha/code/backpack_computer_aquisition/test/pupil'\n",
    "collection_minutes=0.5"
   ]
  },
  {
   "cell_type": "code",
   "execution_count": 8,
   "metadata": {},
   "outputs": [
    {
     "name": "stdout",
     "output_type": "stream",
     "text": [
      "PUPIL_CAM Connecting to socket at 127.0.0.1:41227 ...\n",
      "Timesync successful.\n",
      "PUPIL_CAM Beginning Recording for max 0.5 mins...\n",
      "/home/vasha/code/backpack_computer_aquisition/test/pupil\n",
      "You Pressed s!\n",
      "You Pressed e!\n",
      "You Pressed s!\n",
      "You Pressed s!\n",
      "You Pressed e!\n",
      "PUPIL_CAM Finished PupilLabs Aquisition.\n"
     ]
    }
   ],
   "source": [
    "imp.reload(pup)\n",
    "pup.run_pupillabs_aquisition(save_dir_name, collection_minutes, pupil_port)"
   ]
  },
  {
   "cell_type": "markdown",
   "metadata": {},
   "source": [
    "## Read in Data"
   ]
  },
  {
   "cell_type": "markdown",
   "metadata": {},
   "source": [
    "### Pupil Timestamps"
   ]
  },
  {
   "cell_type": "code",
   "execution_count": 4,
   "metadata": {},
   "outputs": [
    {
     "data": {
      "text/plain": [
       "[<matplotlib.lines.Line2D at 0x7fc8d25ae5c0>]"
      ]
     },
     "execution_count": 4,
     "metadata": {},
     "output_type": "execute_result"
    },
    {
     "data": {
      "image/png": "[encoded data removed]",
      "text/plain": [
       "<Figure size 432x288 with 1 Axes>"
      ]
     },
     "metadata": {
      "needs_background": "light"
     },
     "output_type": "display_data"
    }
   ],
   "source": [
    "import numpy as np\n",
    "import os\n",
    "data_location = os.path.join(save_dir_name, '000', 'pupil_timestamps.npy')\n",
    "location = np.load(data_location)\n",
    "plt.plot(location)"
   ]
  },
  {
   "cell_type": "markdown",
   "metadata": {},
   "source": [
    "### Annotation Timestamps"
   ]
  },
  {
   "cell_type": "code",
   "execution_count": 5,
   "metadata": {},
   "outputs": [
    {
     "data": {
      "text/plain": [
       "array([1.57109251e+09, 1.57109251e+09])"
      ]
     },
     "execution_count": 5,
     "metadata": {},
     "output_type": "execute_result"
    }
   ],
   "source": [
    "data_location = os.path.join(save_dir_name, '000', 'annotation_timestamps.npy')\n",
    "np.load(data_location)"
   ]
  },
  {
   "cell_type": "code",
   "execution_count": 6,
   "metadata": {},
   "outputs": [
    {
     "data": {
      "text/plain": [
       "deque([Serialized_Dict(mappingproxy({'topic': 'annotation', 'label': 'start_trial', 'timestamp': 1571092509.1114008, 'duration': 0})),\n",
       "       Serialized_Dict(mappingproxy({'topic': 'annotation', 'label': 'end_trial', 'timestamp': 1571092514.1154115, 'duration': 0}))])"
      ]
     },
     "execution_count": 6,
     "metadata": {},
     "output_type": "execute_result"
    }
   ],
   "source": [
    "data_dir = os.path.join(save_dir_name, '000')\n",
    "topic = 'annotation'\n",
    "pl_dict = pupfm.load_pldata_file(data_dir, topic)\n",
    "pl_dict.data"
   ]
  },
  {
   "cell_type": "code",
   "execution_count": 34,
   "metadata": {},
   "outputs": [
    {
     "data": {
      "text/plain": [
       "<bound method Serialized_Dict.items of Serialized_Dict(mappingproxy({'topic': 'gaze.2d.0.', 'norm_pos': (0.3222132295096035, 0.4806806169587855), 'confidence': 0.9333008924742835, 'timestamp': 1571092508.157983, 'base_data': (mappingproxy({'topic': 'pupil.0', 'circle_3d': mappingproxy({'center': (-4.450793603154887, 0.4918485622113815, 80.2787850183525), 'normal': (-0.4219704711408478, 0.15443767041557976, -0.8933587898721207), 'radius': 2.6047828299663474}), 'confidence': 0.9333008924742835, 'timestamp': 1571092508.157983, 'diameter_3d': 5.209565659932695, 'ellipse': mappingproxy({'center': (61.864940065843875, 99.70932154391319), 'axes': (34.96888023671294, 40.24114014168146), 'angle': -18.886408925438488}), 'norm_pos': (0.3222132295096035, 0.4806806169587855), 'diameter': 40.24114014168146, 'sphere': mappingproxy({'center': (0.6128520505352862, -1.3614034827755757, 90.99909049681794), 'radius': 12.0}), 'projected_sphere': mappingproxy({'center': (100.17551724151753, 86.72441103847765), 'axes': (163.5181178049282, 163.5181178049282), 'angle': 90.0}), 'model_confidence': 0.896760673075081, 'model_id': 12, 'model_birth_timestamp': 1571092462.2289314, 'theta': 1.7258545967490073, 'phi': -2.012073368932518, 'method': '3d c++', 'id': 0}),)}))>"
      ]
     },
     "execution_count": 34,
     "metadata": {},
     "output_type": "execute_result"
    }
   ],
   "source": [
    "data_dir = os.path.join(save_dir_name, '000')\n",
    "topic = 'gaze'\n",
    "pl_dict = pupfm.load_pldata_file(data_dir, topic)\n",
    "d = pl_dict.data\n",
    "d[0].items\n",
    "#https://docs.pupil-labs.com/developer/core/recording-format/\n",
    "#https://github.com/pupil-labs/pupil/blob/315188dcfba9bef02a5b1d9a3770929d7510ae2f/pupil_src/shared_modules/file_methods.py#L138"
   ]
  },
  {
   "cell_type": "code",
   "execution_count": 7,
   "metadata": {},
   "outputs": [
    {
     "ename": "NameError",
     "evalue": "name 'bda' is not defined",
     "output_type": "error",
     "traceback": [
      "\u001b[0;31m---------------------------------------------------------------------------\u001b[0m",
      "\u001b[0;31mNameError\u001b[0m                                 Traceback (most recent call last)",
      "\u001b[0;32m<ipython-input-7-3192b390319d>\u001b[0m in \u001b[0;36m<module>\u001b[0;34m\u001b[0m\n\u001b[0;32m----> 1\u001b[0;31m \u001b[0mimp\u001b[0m\u001b[0;34m.\u001b[0m\u001b[0mreload\u001b[0m\u001b[0;34m(\u001b[0m\u001b[0mbda\u001b[0m\u001b[0;34m)\u001b[0m\u001b[0;34m\u001b[0m\u001b[0;34m\u001b[0m\u001b[0m\n\u001b[0m\u001b[1;32m      2\u001b[0m \u001b[0mpldata\u001b[0m \u001b[0;34m=\u001b[0m \u001b[0mbda\u001b[0m\u001b[0;34m.\u001b[0m\u001b[0mraw_pl_data\u001b[0m\u001b[0;34m(\u001b[0m\u001b[0mdatapath\u001b[0m\u001b[0;34m=\u001b[0m\u001b[0mdata_dir\u001b[0m\u001b[0;34m)\u001b[0m\u001b[0;34m\u001b[0m\u001b[0;34m\u001b[0m\u001b[0m\n\u001b[1;32m      3\u001b[0m \u001b[0mbda\u001b[0m\u001b[0;34m.\u001b[0m\u001b[0mgaze_to_pandas\u001b[0m\u001b[0;34m(\u001b[0m\u001b[0mpldata\u001b[0m\u001b[0;34m.\u001b[0m\u001b[0mdata\u001b[0m\u001b[0;34m)\u001b[0m\u001b[0;34m\u001b[0m\u001b[0;34m\u001b[0m\u001b[0m\n",
      "\u001b[0;31mNameError\u001b[0m: name 'bda' is not defined"
     ]
    }
   ],
   "source": [
    "imp.reload(bda)\n",
    "pldata = bda.raw_pl_data(datapath=data_dir)\n",
    "bda.gaze_to_pandas(pldata.data)"
   ]
  },
  {
   "cell_type": "code",
   "execution_count": 1,
   "metadata": {},
   "outputs": [
    {
     "ename": "NameError",
     "evalue": "name 'data' is not defined",
     "output_type": "error",
     "traceback": [
      "\u001b[0;31m---------------------------------------------------------------------------\u001b[0m",
      "\u001b[0;31mNameError\u001b[0m                                 Traceback (most recent call last)",
      "\u001b[0;32m<ipython-input-1-1b60ce52fc78>\u001b[0m in \u001b[0;36m<module>\u001b[0;34m\u001b[0m\n\u001b[0;32m----> 1\u001b[0;31m \u001b[0mdata\u001b[0m\u001b[0;34m.\u001b[0m\u001b[0mdata\u001b[0m\u001b[0;34m[\u001b[0m\u001b[0;36m0\u001b[0m\u001b[0;34m]\u001b[0m\u001b[0;34m\u001b[0m\u001b[0;34m\u001b[0m\u001b[0m\n\u001b[0m",
      "\u001b[0;31mNameError\u001b[0m: name 'data' is not defined"
     ]
    }
   ],
   "source": [
    "data.data[0]"
   ]
  },
  {
   "cell_type": "code",
   "execution_count": 21,
   "metadata": {},
   "outputs": [
    {
     "ename": "FileNotFoundError",
     "evalue": "[Errno 2] No such file or directory: '/home/vasha/Desktop/backpack_computer_aquisition/capture/jf/cell_phone_1/pre/eye_camera/000/exports/000/eye1_lookup.npy'",
     "output_type": "error",
     "traceback": [
      "\u001b[0;31m---------------------------------------------------------------------------\u001b[0m",
      "\u001b[0;31mFileNotFoundError\u001b[0m                         Traceback (most recent call last)",
      "\u001b[0;32m<ipython-input-21-ef68c7c2913b>\u001b[0m in \u001b[0;36m<module>\u001b[0;34m\u001b[0m\n\u001b[1;32m      5\u001b[0m \u001b[0meye1\u001b[0m \u001b[0;34m=\u001b[0m \u001b[0mos\u001b[0m\u001b[0;34m.\u001b[0m\u001b[0mpath\u001b[0m\u001b[0;34m.\u001b[0m\u001b[0mjoin\u001b[0m\u001b[0;34m(\u001b[0m\u001b[0mdirname\u001b[0m\u001b[0;34m,\u001b[0m \u001b[0;34m'000'\u001b[0m\u001b[0;34m,\u001b[0m\u001b[0;34m'exports'\u001b[0m\u001b[0;34m,\u001b[0m\u001b[0;34m'000'\u001b[0m\u001b[0;34m,\u001b[0m\u001b[0;34m'eye1_lookup.npy'\u001b[0m\u001b[0;34m)\u001b[0m\u001b[0;34m\u001b[0m\u001b[0;34m\u001b[0m\u001b[0m\n\u001b[1;32m      6\u001b[0m \u001b[0;34m\u001b[0m\u001b[0m\n\u001b[0;32m----> 7\u001b[0;31m \u001b[0mnp\u001b[0m\u001b[0;34m.\u001b[0m\u001b[0mload\u001b[0m\u001b[0;34m(\u001b[0m\u001b[0meye1\u001b[0m\u001b[0;34m)\u001b[0m\u001b[0;34m\u001b[0m\u001b[0;34m\u001b[0m\u001b[0m\n\u001b[0m",
      "\u001b[0;32m~/anaconda3/lib/python3.7/site-packages/numpy/lib/npyio.py\u001b[0m in \u001b[0;36mload\u001b[0;34m(file, mmap_mode, allow_pickle, fix_imports, encoding)\u001b[0m\n\u001b[1;32m    426\u001b[0m         \u001b[0mown_fid\u001b[0m \u001b[0;34m=\u001b[0m \u001b[0;32mFalse\u001b[0m\u001b[0;34m\u001b[0m\u001b[0;34m\u001b[0m\u001b[0m\n\u001b[1;32m    427\u001b[0m     \u001b[0;32melse\u001b[0m\u001b[0;34m:\u001b[0m\u001b[0;34m\u001b[0m\u001b[0;34m\u001b[0m\u001b[0m\n\u001b[0;32m--> 428\u001b[0;31m         \u001b[0mfid\u001b[0m \u001b[0;34m=\u001b[0m \u001b[0mopen\u001b[0m\u001b[0;34m(\u001b[0m\u001b[0mos_fspath\u001b[0m\u001b[0;34m(\u001b[0m\u001b[0mfile\u001b[0m\u001b[0;34m)\u001b[0m\u001b[0;34m,\u001b[0m \u001b[0;34m\"rb\"\u001b[0m\u001b[0;34m)\u001b[0m\u001b[0;34m\u001b[0m\u001b[0;34m\u001b[0m\u001b[0m\n\u001b[0m\u001b[1;32m    429\u001b[0m         \u001b[0mown_fid\u001b[0m \u001b[0;34m=\u001b[0m \u001b[0;32mTrue\u001b[0m\u001b[0;34m\u001b[0m\u001b[0;34m\u001b[0m\u001b[0m\n\u001b[1;32m    430\u001b[0m \u001b[0;34m\u001b[0m\u001b[0m\n",
      "\u001b[0;31mFileNotFoundError\u001b[0m: [Errno 2] No such file or directory: '/home/vasha/Desktop/backpack_computer_aquisition/capture/jf/cell_phone_1/pre/eye_camera/000/exports/000/eye1_lookup.npy'"
     ]
    }
   ],
   "source": [
    "import os\n",
    "import numpy as np\n",
    "dirname ='/home/vasha/Desktop/backpack_computer_aquisition/capture/jf/cell_phone_1/pre/eye_camera/'\n",
    "eye1 = os.path.join(dirname, '000','eye0_lookup.npy')\n",
    "eye1 = os.path.join(dirname, '000','exports','000','eye1_lookup.npy')\n",
    "\n",
    "np.load(eye1)"
   ]
  },
  {
   "cell_type": "code",
   "execution_count": null,
   "metadata": {},
   "outputs": [],
   "source": []
  }
 ],
 "metadata": {
  "kernelspec": {
   "display_name": "Python 3",
   "language": "python",
   "name": "python3"
  },
  "language_info": {
   "codemirror_mode": {
    "name": "ipython",
    "version": 3
   },
   "file_extension": ".py",
   "mimetype": "text/x-python",
   "name": "python",
   "nbconvert_exporter": "python",
   "pygments_lexer": "ipython3",
   "version": "3.7.5"
  }
 },
 "nbformat": 4,
 "nbformat_minor": 4
}
