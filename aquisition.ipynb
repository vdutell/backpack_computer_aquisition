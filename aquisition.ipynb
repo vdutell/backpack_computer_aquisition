{
 "cells": [
  {
   "cell_type": "markdown",
   "metadata": {},
   "source": [
    "# Full Experiment Aquisition"
   ]
  },
  {
   "cell_type": "code",
   "execution_count": 1,
   "metadata": {},
   "outputs": [],
   "source": [
    "import ximea_cam_aquire_save as aquire\n",
    "import run_experiment as runexp\n",
    "import run_analysis as runana\n",
    "\n",
    "import imp\n",
    "import numpy as np\n",
    "import matplotlib.pyplot as plt\n",
    "import imageio\n",
    "import cv2\n",
    "import schedule\n",
    "import time"
   ]
  },
  {
   "cell_type": "code",
   "execution_count": 2,
   "metadata": {},
   "outputs": [],
   "source": [
    "#settings\n",
    "subject = 'test_subject'\n",
    "task = 'test_task'\n",
    "exp = 'exp'\n",
    "capture_dir = './capture'\n",
    "analysis_dir = './analysis'\n",
    "frames = 30"
   ]
  },
  {
   "cell_type": "code",
   "execution_count": 8,
   "metadata": {},
   "outputs": [
    {
     "name": "stdout",
     "output_type": "stream",
     "text": [
      "Running an experiment.\n",
      "Collecting at 200 fps.\n",
      "Started eyetracking aquisition at 200fps...\n",
      "Started imu aquisition at 200fps...\n",
      "Starting scene aquisition at 200fps...\n",
      "*###*###*###*###*###*Finished PupilLabs Aquisition.\n",
      "*#Finished Realsense Aquisition.\n",
      "#####*###*##*##*####*####*##*###*###*####*###*#*##*####*####*#*#####*####*###*###*###*###*###*##Sampled to max num frames of 30\n",
      "Cleanly Stopping Device Aquisition and closing file.\n",
      "#Writing Queue of Timestamps\n",
      "Waiting for save threads to finish\n",
      "Finished Ximea Aquisition.\n"
     ]
    },
    {
     "data": {
      "text/plain": [
       "()"
      ]
     },
     "execution_count": 8,
     "metadata": {},
     "output_type": "execute_result"
    }
   ],
   "source": [
    "imp.reload(runexp)\n",
    "runexp.run_experiment(subject_name=subject, \n",
    "                      task_name=task, \n",
    "                      exp_type=exp,\n",
    "                      save_dir=capture_dir,\n",
    "                      max_frames=frames)"
   ]
  },
  {
   "cell_type": "code",
   "execution_count": null,
   "metadata": {},
   "outputs": [
    {
     "name": "stdout",
     "output_type": "stream",
     "text": [
      "Running Frame Analysis...\n",
      "Mean camera time disparity: 0.0084 seconds\n",
      "Mean OS dts: 0.0312 seconds\n",
      "Mean OD dts: 0.0317 seconds\n",
      "Mean CY dts: 0.0309 seconds\n"
     ]
    },
    {
     "data": {
      "image/png": "[encoded data removed]",
      "text/plain": [
       "<Figure size 432x288 with 1 Axes>"
      ]
     },
     "metadata": {
      "needs_background": "light"
     },
     "output_type": "display_data"
    },
    {
     "name": "stdout",
     "output_type": "stream",
     "text": [
      "**"
     ]
    }
   ],
   "source": [
    "imp.reload(runana)\n",
    "runana.run_analysis(subject_name=subject, \n",
    "                      task_name=task, \n",
    "                      exp_type=exp,\n",
    "                      read_dir=capture_dir,\n",
    "                      save_dir=analysis_dir\n",
    "                      )"
   ]
  },
  {
   "cell_type": "code",
   "execution_count": null,
   "metadata": {},
   "outputs": [],
   "source": []
  },
  {
   "cell_type": "code",
   "execution_count": null,
   "metadata": {},
   "outputs": [],
   "source": []
  }
 ],
 "metadata": {
  "kernelspec": {
   "display_name": "Python 3",
   "language": "python",
   "name": "python3"
  },
  "language_info": {
   "codemirror_mode": {
    "name": "ipython",
    "version": 3
   },
   "file_extension": ".py",
   "mimetype": "text/x-python",
   "name": "python",
   "nbconvert_exporter": "python",
   "pygments_lexer": "ipython3",
   "version": "3.6.8"
  }
 },
 "nbformat": 4,
 "nbformat_minor": 2
}
