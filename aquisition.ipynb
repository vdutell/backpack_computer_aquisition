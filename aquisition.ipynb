{
 "cells": [
  {
   "cell_type": "markdown",
   "metadata": {},
   "source": [
    "# Full Experiment Aquisition"
   ]
  },
  {
   "cell_type": "code",
   "execution_count": 1,
   "metadata": {},
   "outputs": [],
   "source": [
    "import ximea_cam_aquire_save as aquire\n",
    "import run_experiment as runexp\n",
    "import run_analysis as runana\n",
    "\n",
    "import imp\n",
    "import numpy as np\n",
    "import matplotlib.pyplot as plt\n",
    "import imageio\n",
    "import cv2\n",
    "import schedule\n",
    "import time"
   ]
  },
  {
   "cell_type": "code",
   "execution_count": 2,
   "metadata": {},
   "outputs": [],
   "source": [
    "#settings\n",
    "subject = 'test_subject'\n",
    "task = 'test_task'\n",
    "exp = 'exp'\n",
    "capture_dir = './capture'\n",
    "analysis_dir = './analysis'\n",
    "frames = 30"
   ]
  },
  {
   "cell_type": "code",
   "execution_count": 3,
   "metadata": {},
   "outputs": [
    {
     "name": "stdout",
     "output_type": "stream",
     "text": [
      "Running an experiment.\n",
      "Collecting at 200 fps.\n",
      "Started eyetracking aquisition at 200fps...\n",
      "Started imu aquisition at 200fps...\n",
      "Starting scene aquisition at 200fps...\n",
      "Saving Queue Started...\n",
      "Saving Queue Started...\n",
      "Saving Queue Started...\n",
      "***********Finished PupilLabs Aquisition.\n",
      "Finished Realsense Aquisition.\n",
      "*******************Sampled to max num frames of 30\n",
      "Cleanly Stopping Device Aquisition and closing file.\n",
      "Writing Queue of Timestamps...\n",
      "Waiting for save threads/queues to finish...\n",
      "Finished Ximea Aquisition.\n"
     ]
    },
    {
     "data": {
      "text/plain": [
       "()"
      ]
     },
     "execution_count": 3,
     "metadata": {},
     "output_type": "execute_result"
    }
   ],
   "source": [
    "imp.reload(runexp)\n",
    "imp.reload(aquire)\n",
    "runexp.run_experiment(subject_name=subject, \n",
    "                      task_name=task, \n",
    "                      exp_type=exp,\n",
    "                      save_dir=capture_dir,\n",
    "                      max_frames=frames)"
   ]
  },
  {
   "cell_type": "code",
   "execution_count": null,
   "metadata": {},
   "outputs": [
    {
     "name": "stdout",
     "output_type": "stream",
     "text": [
      "Running Frame Analysis...\n",
      "[[0.00000000e+00 1.07893013e+04 1.07892814e+04 1.07892814e+04]\n",
      " [1.00000000e+00 1.07893264e+04 1.07893232e+04 1.07893232e+04]\n",
      " [2.00000000e+00 1.07893431e+04 1.07893399e+04 1.07893399e+04]\n",
      " [3.00000000e+00 1.07893598e+04 1.07893566e+04 1.07893566e+04]\n",
      " [4.00000000e+00 1.07893682e+04 1.07893733e+04 1.07893733e+04]\n",
      " [5.00000000e+00 1.07893849e+04 1.07893900e+04 1.07893900e+04]\n",
      " [6.00000000e+00 1.07893932e+04 1.07893984e+04 1.07893984e+04]\n",
      " [7.00000000e+00 1.07894099e+04 1.07894151e+04 1.07894151e+04]\n",
      " [8.00000000e+00 1.07894350e+04 1.07894318e+04 1.07894318e+04]\n",
      " [9.00000000e+00 1.07894433e+04 1.07894485e+04 1.07894485e+04]\n",
      " [1.00000000e+01 1.07894600e+04 1.07894652e+04 1.07894652e+04]\n",
      " [1.10000000e+01 1.07894851e+04 1.07894819e+04 1.07894819e+04]\n",
      " [1.20000000e+01 1.07894935e+04 1.07894902e+04 1.07894902e+04]\n",
      " [1.30000000e+01 1.07895018e+04 1.07895069e+04 1.07895069e+04]\n",
      " [1.40000000e+01 1.07895185e+04 1.07895153e+04 1.07895153e+04]\n",
      " [1.50000000e+01 1.07895269e+04 1.07895320e+04 1.07895320e+04]\n",
      " [1.60000000e+01 1.07895436e+04 1.07895487e+04 1.07895487e+04]\n",
      " [1.70000000e+01 1.07895603e+04 1.07895654e+04 1.07895654e+04]\n",
      " [1.80000000e+01 1.07895686e+04 1.07895738e+04 1.07895738e+04]\n",
      " [1.90000000e+01 1.07896020e+04 1.07896072e+04 1.07896072e+04]\n",
      " [2.00000000e+01 1.07896271e+04 1.07896239e+04 1.07896239e+04]\n",
      " [2.10000000e+01 1.07896438e+04 1.07896406e+04 1.07896406e+04]\n",
      " [2.20000000e+01 1.07896605e+04 1.07896573e+04 1.07896573e+04]\n",
      " [2.30000000e+01 1.07896689e+04 1.07896740e+04 1.07896740e+04]\n",
      " [2.40000000e+01 1.07896772e+04 1.07896824e+04 1.07896824e+04]\n",
      " [2.50000000e+01 1.07896939e+04 1.07896991e+04 1.07896991e+04]\n",
      " [2.60000000e+01 1.07897273e+04 1.07897241e+04 1.07897241e+04]\n",
      " [2.70000000e+01 1.07897357e+04 1.07897408e+04 1.07897408e+04]\n",
      " [2.80000000e+01 1.07897524e+04 1.07897575e+04 1.07897575e+04]\n",
      " [2.90000000e+01 1.07897691e+04 1.07897742e+04 1.07897742e+04]]\n",
      "Mean camera time disparity: 0.0049 seconds\n",
      "Mean OS dts: 0.0161 seconds\n",
      "Mean OD dts: 0.0170 seconds\n",
      "Mean CY dts: 0.0170 seconds\n"
     ]
    },
    {
     "data": {
      "image/png": "[encoded data removed]",
      "text/plain": [
       "<Figure size 432x288 with 1 Axes>"
      ]
     },
     "metadata": {
      "needs_background": "light"
     },
     "output_type": "display_data"
    },
    {
     "data": {
      "image/png": "[encoded data removed]",
      "text/plain": [
       "<Figure size 432x288 with 1 Axes>"
      ]
     },
     "metadata": {
      "needs_background": "light"
     },
     "output_type": "display_data"
    },
    {
     "name": "stdout",
     "output_type": "stream",
     "text": [
      "*******************************************"
     ]
    }
   ],
   "source": [
    "imp.reload(runana)\n",
    "runana.run_analysis(subject_name=subject, \n",
    "                      task_name=task, \n",
    "                      exp_type=exp,\n",
    "                      read_dir=capture_dir,\n",
    "                      save_dir=analysis_dir,\n",
    "                      run_timestamp_stats=True,\n",
    "                      run_convert_ims=True\n",
    "                      )"
   ]
  },
  {
   "cell_type": "code",
   "execution_count": null,
   "metadata": {},
   "outputs": [],
   "source": [
    "im = cv2.imread('./analysis/test_subject/test_task/exp/scene_camera/cam_od/frame_0.png')\n",
    "plt.imshow(im)\n",
    "plt.show()\n",
    "plt.hist(im.flatten())"
   ]
  }
 ],
 "metadata": {
  "kernelspec": {
   "display_name": "Python 3",
   "language": "python",
   "name": "python3"
  },
  "language_info": {
   "codemirror_mode": {
    "name": "ipython",
    "version": 3
   },
   "file_extension": ".py",
   "mimetype": "text/x-python",
   "name": "python",
   "nbconvert_exporter": "python",
   "pygments_lexer": "ipython3",
   "version": "3.6.8"
  }
 },
 "nbformat": 4,
 "nbformat_minor": 2
}
