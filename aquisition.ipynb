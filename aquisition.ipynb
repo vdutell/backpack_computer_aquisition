{
 "cells": [
  {
   "cell_type": "markdown",
   "metadata": {},
   "source": [
    "# Full Experiment Aquisition"
   ]
  },
  {
   "cell_type": "code",
   "execution_count": 1,
   "metadata": {},
   "outputs": [],
   "source": [
    "import ximea_cam_aquire_save as xim\n",
    "import run_experiment as runexp\n",
    "import run_analysis as runana\n",
    "\n",
    "import imp\n",
    "import numpy as np\n",
    "import matplotlib.pyplot as plt\n",
    "import imageio\n",
    "\n",
    "import cv2\n",
    "import schedule\n",
    "import time"
   ]
  },
  {
   "cell_type": "code",
   "execution_count": 2,
   "metadata": {},
   "outputs": [],
   "source": [
    "#settings\n",
    "subject = 'test_subject'\n",
    "task = 'test_task'\n",
    "exp = 'exp'\n",
    "capture_dir_list = ['./capture', '/tb_disk/capture']\n",
    "analysis_dir = './analysis'\n",
    "\n",
    "collection_minutes = 0.2\n",
    "save_batchsize = 100"
   ]
  },
  {
   "cell_type": "code",
   "execution_count": 3,
   "metadata": {},
   "outputs": [
    {
     "name": "stdout",
     "output_type": "stream",
     "text": [
      "./capture/test_subject/test_task/exp/eye_camera\n",
      "Started eyetracking aquisition...\n",
      "Started imu aquisition...\n",
      "Starting scene aquisition...\n",
      "SCENE_CAM Starting acquisition threads...\n",
      "SCENE_CAM Opening Camera od\n",
      "SCENE_CAM Opening Camera os\n",
      "SCENE_CAM Aquiring Until Finished...\n",
      "SCENE_CAM Recording Timestamp Syncronization Pre...\n",
      "SCENE_CAM Recording Timestamp Syncronization Pre...\n",
      "PUPIL_CAM Finished PupilLabs Aquisition.\n",
      "IMU Finished Realsense Aquisition.\n",
      "SCENE_CAM Reached 2400 frames collected. Exiting.\n",
      "SCENE_CAM Camera od Cleanup...\n",
      "SCENE_CAM Reached 2400 frames collected. Exiting.\n",
      "SCENE_CAM Camera os Cleanup...\n",
      "SCENE_CAM Camera od aquisition finished\n",
      "SCENE_CAM Camera os aquisition finished\n",
      "SCENE_CAM Finished Aquiring. Waiting for Save Queues to Empty...\n",
      "All Done!\n",
      "All Done! Collected for 0.2 minutes\n"
     ]
    },
    {
     "data": {
      "text/plain": [
       "()"
      ]
     },
     "execution_count": 3,
     "metadata": {},
     "output_type": "execute_result"
    }
   ],
   "source": [
    "# run experiment\n",
    "imp.reload(runexp)\n",
    "imp.reload(xim)\n",
    "runexp.run_experiment(subject_name=subject, \n",
    "                      task_name=task, \n",
    "                      exp_type=exp,\n",
    "                      save_dirs=capture_dir_list,\n",
    "                      collection_minutes=collection_minutes,\n",
    "                      save_batchsize=save_batchsize)"
   ]
  },
  {
   "cell_type": "code",
   "execution_count": null,
   "metadata": {},
   "outputs": [],
   "source": []
  }
 ],
 "metadata": {
  "kernelspec": {
   "display_name": "Python 3",
   "language": "python",
   "name": "python3"
  },
  "language_info": {
   "codemirror_mode": {
    "name": "ipython",
    "version": 3
   },
   "file_extension": ".py",
   "mimetype": "text/x-python",
   "name": "python",
   "nbconvert_exporter": "python",
   "pygments_lexer": "ipython3",
   "version": "3.6.8"
  }
 },
 "nbformat": 4,
 "nbformat_minor": 2
}
