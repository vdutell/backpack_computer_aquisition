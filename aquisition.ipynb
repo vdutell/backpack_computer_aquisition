{
 "cells": [
  {
   "cell_type": "markdown",
   "metadata": {},
   "source": [
    "# Full Experiment Aquisition"
   ]
  },
  {
   "cell_type": "code",
   "execution_count": 1,
   "metadata": {},
   "outputs": [],
   "source": [
    "import ximea_cam_aquire_save as xim\n",
    "import run_experiment as runexp\n",
    "import run_analysis as runana\n",
    "\n",
    "import imp\n",
    "import numpy as np\n",
    "import matplotlib.pyplot as plt\n",
    "import imageio\n",
    "\n",
    "import cv2\n",
    "import schedule\n",
    "import time"
   ]
  },
  {
   "cell_type": "code",
   "execution_count": 2,
   "metadata": {},
   "outputs": [],
   "source": [
    "#settings\n",
    "subject = 'test_subject'\n",
    "task = 'test_task'\n",
    "exp = 'exp'\n",
    "capture_dir_list = ['/home/vasha/code/backpack_computer_aquisition/capture', \n",
    "                    '/tb_disk/capture']\n",
    "analysis_dir = './analysis'\n",
    "\n",
    "collection_minutes = 2/6\n",
    "save_batchsize = 1000\n",
    "ncameras = 2\n",
    "\n",
    "pupil_port = 41227"
   ]
  },
  {
   "cell_type": "code",
   "execution_count": 3,
   "metadata": {},
   "outputs": [
    {
     "name": "stdout",
     "output_type": "stream",
     "text": [
      "PUPIL_CAM Connecting to socket at 127.0.0.1:41227 ...\n",
      "Main Thread: Started eyetracking aquisition...\n",
      "Main Thread: Started imu aquisition...IMU ERROR: Two Realsense Trackers Not Found!\n",
      "IMU Not recording IMU Data.\n",
      "\n",
      "Main Thread: Starting scene aquisition...\n",
      "Timesync successful.\n",
      "SCENE_CAM Starting Acquisition threads...\n",
      "PUPIL_CAM Beginning Recording for max 0.3333333333333333 mins...\n",
      "SCENE_CAM Opening Camera od/home/vasha/code/backpack_computer_aquisition/capture/test_subject/test_task/exp/eye_camera\n",
      "\n",
      "SCENE_CAM Recording Timestamp Syncronization Pre...\n",
      "SCENE_CAM Begin Recording for up to 4000 frames...\n",
      "You Pressed s!\n",
      "You Pressed e!\n",
      "PUPIL_CAM Finished PupilLabs Aquisition.\n",
      "SCENE_CAM Reached 4000 frames collected\n",
      "SCENE_CAM Camera od Cleanup...\n",
      "SCENE_CAM Camera od aquisition finished\n",
      "SCENE_CAM Finished Aquiring...\n",
      "SCENE_CAM Saving Timestamp Sync Information...\n",
      "SCENE_CAM Waiting for Save Queues to Empty...\n",
      "SCENE_CAM Pipes are Empty. Camera Collection Finished without Interrupt\n",
      "SCENE_CAM All Finished - Ending Ximea Camera Now.\n",
      "Main Thread: All Done! Collected for 0.3333333333333333 minutes\n"
     ]
    },
    {
     "data": {
      "text/plain": [
       "()"
      ]
     },
     "execution_count": 3,
     "metadata": {},
     "output_type": "execute_result"
    }
   ],
   "source": [
    "# run experiment\n",
    "imp.reload(runexp)\n",
    "imp.reload(xim)\n",
    "runexp.run_experiment(subject_name=subject, \n",
    "                      task_name=task, \n",
    "                      exp_type=exp,\n",
    "                      save_dirs=capture_dir_list,\n",
    "                      collection_minutes=collection_minutes,\n",
    "                      save_batchsize=save_batchsize,\n",
    "                      pupil_port=pupil_port)"
   ]
  },
  {
   "cell_type": "code",
   "execution_count": null,
   "metadata": {},
   "outputs": [],
   "source": []
  }
 ],
 "metadata": {
  "kernelspec": {
   "display_name": "Python 3",
   "language": "python",
   "name": "python3"
  },
  "language_info": {
   "codemirror_mode": {
    "name": "ipython",
    "version": 3
   },
   "file_extension": ".py",
   "mimetype": "text/x-python",
   "name": "python",
   "nbconvert_exporter": "python",
   "pygments_lexer": "ipython3",
   "version": "3.6.8"
  }
 },
 "nbformat": 4,
 "nbformat_minor": 4
}
