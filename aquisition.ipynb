{
 "cells": [
  {
   "cell_type": "markdown",
   "metadata": {},
   "source": [
    "# Full Experiment Aquisition"
   ]
  },
  {
   "cell_type": "code",
   "execution_count": 1,
   "metadata": {},
   "outputs": [],
   "source": [
    "import ximea_cam_aquire_save as xim\n",
    "import run_experiment as runexp\n",
    "import run_analysis as runana\n",
    "\n",
    "import imp\n",
    "import numpy as np\n",
    "import matplotlib.pyplot as plt\n",
    "import imageio\n",
    "\n",
    "import cv2\n",
    "import time\n",
    "import os, stat"
   ]
  },
  {
   "cell_type": "code",
   "execution_count": 2,
   "metadata": {},
   "outputs": [],
   "source": [
    "#settings\n",
    "subject = 'test_subject'\n",
    "task = 'test_task'\n",
    "exp = 'exp'\n",
    "capture_dir_list = ['/home/vasha/Desktop/backpack_computer_aquisition/capture']\n",
    "path = os.path.join(capture_dir_list[0], subject, task, exp,'test')\n",
    "if not os.path.exists(path):\n",
    "    oldmask = os.umask(000)\n",
    "    os.makedirs(path, 777)\n",
    "    os.umask(oldmask)\n",
    "    #os.makedirs(path, 0777)\n",
    "\n",
    "analysis_dir = './analysis'\n",
    "\n",
    "collection_minutes = 0.5\n",
    "save_batchsize = 200\n",
    "ncameras = 1\n",
    "\n",
    "pupil_port = 50020"
   ]
  },
  {
   "cell_type": "code",
   "execution_count": 3,
   "metadata": {},
   "outputs": [
    {
     "name": "stdout",
     "output_type": "stream",
     "text": [
      "PUPIL_CAM Connecting to socket at 127.0.0.1:50020 ...Main Thread: Started eyetracking aquisition...\n",
      "\n",
      "Main Thread: Starting scene aquisition...\n",
      "SCENE_CAM Starting Acquisition threads...\n",
      "Timesync successful.\n",
      "PUPIL_CAM Beginning Recording for max 0.5 mins...\n",
      "/home/vasha/Desktop/backpack_computer_aquisition/capture/test_subject/test_task/exp/eye_camera\n",
      "SCENE_CAM Opening Camera cy\n",
      "SCENE_CAM Recording Timestamp Syncronization Pre...\n",
      "SCENE_CAM Begin Recording for up to 6000 frames...\n",
      "You Pressed s!\n",
      "You Pressed e!\n",
      "PUPIL_CAM Finished PupilLabs Aquisition.\n",
      "SCENE_CAM Reached 6000 frames collected\n",
      "SCENE_CAM Camera cy Cleanup...\n",
      "SCENE_CAM Camera cy aquisition finished\n",
      "SCENE_CAM Finished Aquiring...\n",
      "SCENE_CAM Saving Timestamp Sync Information...\n",
      "SCENE_CAM Waiting for Save Queues to Empty...\n",
      "SCENE_CAM Pipes are Empty. Camera Collection Finished without Interrupt\n",
      "SCENE_CAM All Finished - Ending Ximea Camera Now.\n",
      "Main Thread: All Done! Collected for 0.5 minutes\n"
     ]
    },
    {
     "data": {
      "text/plain": [
       "()"
      ]
     },
     "execution_count": 3,
     "metadata": {},
     "output_type": "execute_result"
    }
   ],
   "source": [
    "# run experiment\n",
    "imp.reload(runexp)\n",
    "imp.reload(xim)\n",
    "runexp.run_experiment(subject_name=subject, \n",
    "                      task_name=task, \n",
    "                      exp_type=exp,\n",
    "                      save_dirs=capture_dir_list,\n",
    "                      collection_minutes=collection_minutes,\n",
    "                      save_batchsize=save_batchsize,\n",
    "                      pupil_port=pupil_port,\n",
    "                      n_cameras = ncameras)"
   ]
  },
  {
   "cell_type": "code",
   "execution_count": null,
   "metadata": {},
   "outputs": [],
   "source": []
  },
  {
   "cell_type": "code",
   "execution_count": null,
   "metadata": {},
   "outputs": [],
   "source": []
  }
 ],
 "metadata": {
  "kernelspec": {
   "display_name": "Python 3",
   "language": "python",
   "name": "python3"
  },
  "language_info": {
   "codemirror_mode": {
    "name": "ipython",
    "version": 3
   },
   "file_extension": ".py",
   "mimetype": "text/x-python",
   "name": "python",
   "nbconvert_exporter": "python",
   "pygments_lexer": "ipython3",
   "version": "3.7.5"
  }
 },
 "nbformat": 4,
 "nbformat_minor": 4
}
