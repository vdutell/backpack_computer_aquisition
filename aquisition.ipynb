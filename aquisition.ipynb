{
 "cells": [
  {
   "cell_type": "markdown",
   "metadata": {},
   "source": [
    "# Full Experiment Aquisition"
   ]
  },
  {
   "cell_type": "code",
   "execution_count": 12,
   "metadata": {},
   "outputs": [],
   "source": [
    "import ximea_cam_aquire_save as xim\n",
    "import run_experiment as runexp\n",
    "import run_analysis as runana\n",
    "\n",
    "import imp\n",
    "import numpy as np\n",
    "import matplotlib.pyplot as plt\n",
    "import imageio\n",
    "\n",
    "import cv2\n",
    "import time\n",
    "import os, stat"
   ]
  },
  {
   "cell_type": "code",
   "execution_count": 13,
   "metadata": {},
   "outputs": [],
   "source": [
    "#settings\n",
    "subject = 'buddy'\n",
    "task = 'chat_1'\n",
    "exp = 'pre'\n",
    "capture_dir_list = ['/home/vasha/Desktop/backpack_computer_aquisition/capture']\n",
    "path = os.path.join(capture_dir_list[0], subject, task, exp,'test')\n",
    "if not os.path.exists(path):\n",
    "    oldmask = os.umask(000)\n",
    "    os.makedirs(path, 777)\n",
    "    os.umask(oldmask)\n",
    "    #os.makedirs(path, 0777)\n",
    "\n",
    "analysis_dir = './analysis'\n",
    "\n",
    "collection_minutes = 1\n",
    "save_batchsize = 200\n",
    "ncameras = 1\n",
    "\n",
    "pupil_port = 50020"
   ]
  },
  {
   "cell_type": "code",
   "execution_count": 14,
   "metadata": {},
   "outputs": [
    {
     "name": "stdout",
     "output_type": "stream",
     "text": [
      "PUPIL_CAM Connecting to socket at 127.0.0.1:50020 ...Main Thread: Started eyetracking aquisition...\n",
      "Main Thread: Starting scene aquisition...\n",
      "\n",
      "SCENE_CAM Starting Acquisition threads...\n",
      "SCENE_CAM Opening Camera cy\n",
      "PUPIL_CAM Problem Connecting on IP 127.0.0.1, port 50020 \n"
     ]
    },
    {
     "name": "stderr",
     "output_type": "stream",
     "text": [
      "Exception in thread Thread-13:\n",
      "Traceback (most recent call last):\n",
      "  File \"/home/vasha/anaconda3/lib/python3.7/threading.py\", line 926, in _bootstrap_inner\n",
      "    self.run()\n",
      "  File \"/home/vasha/anaconda3/lib/python3.7/threading.py\", line 870, in run\n",
      "    self._target(*self._args, **self._kwargs)\n",
      "  File \"/home/vasha/Desktop/backpack_computer_aquisition/pupil_cam_aquire_save.py\", line 25, in run_pupillabs_aquisition\n",
      "    print(socket.set_time(time_fn))\n",
      "  File \"/home/vasha/Desktop/backpack_computer_aquisition/zmq_socket.py\", line 89, in set_time\n",
      "    self.socket.send_string(f'T {time_fn()}')\n",
      "  File \"/home/vasha/anaconda3/lib/python3.7/site-packages/zmq/sugar/socket.py\", line 568, in send_string\n",
      "    return self.send(u.encode(encoding), flags=flags, copy=copy, **kwargs)\n",
      "  File \"/home/vasha/anaconda3/lib/python3.7/site-packages/zmq/sugar/socket.py\", line 400, in send\n",
      "    return super(Socket, self).send(data, flags=flags, copy=copy, track=track)\n",
      "  File \"zmq/backend/cython/socket.pyx\", line 728, in zmq.backend.cython.socket.Socket.send\n",
      "  File \"zmq/backend/cython/socket.pyx\", line 775, in zmq.backend.cython.socket.Socket.send\n",
      "  File \"zmq/backend/cython/socket.pyx\", line 247, in zmq.backend.cython.socket._send_copy\n",
      "  File \"zmq/backend/cython/socket.pyx\", line 242, in zmq.backend.cython.socket._send_copy\n",
      "  File \"zmq/backend/cython/checkrc.pxd\", line 25, in zmq.backend.cython.checkrc._check_rc\n",
      "zmq.error.ZMQError: Operation cannot be accomplished in current state\n",
      "\n"
     ]
    },
    {
     "name": "stdout",
     "output_type": "stream",
     "text": [
      "SCENE_CAM Recording Timestamp Syncronization Pre...\n",
      "SCENE_CAM Begin Recording for up to 12000 frames...\n",
      "SCENE_CAM Reached 12000 frames collected\n",
      "SCENE_CAM Camera cy Cleanup...\n",
      "SCENE_CAM Camera cy aquisition finished\n",
      "SCENE_CAM Finished Aquiring...\n",
      "SCENE_CAM Saving Timestamp Sync Information...\n",
      "SCENE_CAM Waiting for Save Queues to Empty...\n",
      "SCENE_CAM Pipes are Empty. Camera Collection Finished without Interrupt\n",
      "SCENE_CAM All Finished - Ending Ximea Camera Now.\n",
      "Main Thread: All Done! Collected for 1 minutes\n"
     ]
    },
    {
     "data": {
      "text/plain": [
       "()"
      ]
     },
     "execution_count": 14,
     "metadata": {},
     "output_type": "execute_result"
    }
   ],
   "source": [
    "# run experiment\n",
    "imp.reload(runexp)\n",
    "imp.reload(xim)\n",
    "runexp.run_experiment(subject_name=subject, \n",
    "                      task_name=task, \n",
    "                      exp_type=exp,\n",
    "                      save_dirs=capture_dir_list,\n",
    "                      collection_minutes=collection_minutes,\n",
    "                      save_batchsize=save_batchsize,\n",
    "                      pupil_port=pupil_port,\n",
    "                      n_cameras = ncameras)"
   ]
  },
  {
   "cell_type": "code",
   "execution_count": null,
   "metadata": {},
   "outputs": [],
   "source": []
  },
  {
   "cell_type": "code",
   "execution_count": null,
   "metadata": {},
   "outputs": [],
   "source": []
  }
 ],
 "metadata": {
  "kernelspec": {
   "display_name": "Python 3",
   "language": "python",
   "name": "python3"
  },
  "language_info": {
   "codemirror_mode": {
    "name": "ipython",
    "version": 3
   },
   "file_extension": ".py",
   "mimetype": "text/x-python",
   "name": "python",
   "nbconvert_exporter": "python",
   "pygments_lexer": "ipython3",
   "version": "3.7.5"
  }
 },
 "nbformat": 4,
 "nbformat_minor": 4
}
