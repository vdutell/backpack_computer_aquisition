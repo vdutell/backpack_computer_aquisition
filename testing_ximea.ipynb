{
 "cells": [
  {
   "cell_type": "markdown",
   "metadata": {},
   "source": [
    "# Testing Ximea Aquisition"
   ]
  },
  {
   "cell_type": "markdown",
   "metadata": {},
   "source": [
    "### Imports and Params"
   ]
  },
  {
   "cell_type": "code",
   "execution_count": 1,
   "metadata": {},
   "outputs": [],
   "source": [
    "import ximea_cam_aquire_save as xim\n",
    "#import xca2 as xim\n",
    "import imp\n",
    "import run_analysis as ana\n",
    "from ximea import xiapi\n",
    "import numpy as np\n",
    "import cv2\n",
    "import matplotlib.pyplot as plt\n"
   ]
  },
  {
   "cell_type": "code",
   "execution_count": 2,
   "metadata": {},
   "outputs": [],
   "source": [
    "collection_mins = 0.5\n",
    "save_batchsize = 2500"
   ]
  },
  {
   "cell_type": "markdown",
   "metadata": {},
   "source": [
    "### Capture for Ximea Cameras\n",
    "\n",
    "https://www.ximea.com/support/wiki/apis/XiAPI_Manual"
   ]
  },
  {
   "cell_type": "code",
   "execution_count": null,
   "metadata": {},
   "outputs": [
    {
     "name": "stdout",
     "output_type": "stream",
     "text": [
      "SCENE_CAM Starting acquisition threads...\n",
      "SCENE_CAM Opening Camera od\n",
      "SCENE_CAM Aquiring Until Finished...\n",
      "SCENE_CAM Recording Timestamp Syncronization Pre...\n",
      "garbage collected! Queue size is [65]\n",
      "garbage collected! Queue size is [183]\n"
     ]
    }
   ],
   "source": [
    "imp.reload(xim)\n",
    "save_folder_list = ['./test', './test2']\n",
    "xim.ximea_acquire(save_folder_list, max_collection_mins=collection_mins, ims_per_file=save_batchsize)"
   ]
  },
  {
   "cell_type": "markdown",
   "metadata": {},
   "source": [
    "### How many Frames were Dropped?"
   ]
  },
  {
   "cell_type": "code",
   "execution_count": null,
   "metadata": {},
   "outputs": [],
   "source": [
    "imp.reload(ana)\n",
    "ana.count_missed_frames('./test/timestamps_od.tsv', 'od')\n",
    "#ana.count_missed_frames('/tb_disk/test/timestamps_os.tsv', 'os')\n",
    "# ana.count_missed_frames('/tb_disk/test/timestamps_cy.tsv', 'cy')\n",
    "\n",
    "ana.plot_camera_timing('./test/timestamps_od.tsv', './test/timestamp_plot_od.png', 'od')\n",
    "#ana.plot_camera_timing('/tb_disk/test/timestamps_os.tsv', '/tb_disk/test/timestamps_os.png', 'os')\n",
    "\n",
    "ana.plot_camera_dframe('./test/timestamps_od.tsv', './test/dframe_plot_od.png', 'od')\n",
    "#ana.plot_camera_dframe('/tb_disk/test/timestamps_os.tsv', '/tb_disk/test/timestamps_os.png', 'od')\n"
   ]
  },
  {
   "cell_type": "markdown",
   "metadata": {},
   "source": [
    "### Do Images Look Good?"
   ]
  },
  {
   "cell_type": "code",
   "execution_count": null,
   "metadata": {},
   "outputs": [],
   "source": [
    "imgfile = 'test/od/frames_100_199.bin'\n",
    "imc_od = ana.bin_to_im(imgfile, 10, (1544,2064))\n",
    "imc_od = (imc_od/np.max(imc_od))\n",
    "cv2.imwrite('./testim.png', imc_od)\n",
    "#imc_os = bin_to_im('test/os/frame_8000.bin')\n",
    "plt.imshow(imc_od)\n",
    "plt.title('OD')\n",
    "plt.show()\n",
    "\n",
    "cv2.imwrite('./testim_norm.png', cv2.cvtColor(((imc_od*255).astype('uint8')), cv2.COLOR_RGB2BGR))\n",
    "plt.hist(imc_od.flatten(), bins=100);\n",
    "#plt.imshow(imc_os)\n",
    "#plt.title('OS')\n",
    "#plt.show()"
   ]
  },
  {
   "cell_type": "code",
   "execution_count": null,
   "metadata": {},
   "outputs": [],
   "source": [
    "import matplotlib.pyplot as plt\n",
    "imp.reload(ana)\n",
    "imc_od2 = ana.bin_to_im(imgfile, 1, (1544,2064))\n",
    "imc_od2 = (imc_od2/np.max(imc_od2))\n",
    "cv2.imwrite('./testim.png', imc_od2)\n",
    "#imc_os = bin_to_im('test/os/frame_8000.bin')\n",
    "plt.imshow(imc_od2)\n",
    "plt.title('OD')\n",
    "plt.show()\n",
    "\n",
    "cv2.imwrite('./testim_norm2.png', cv2.cvtColor(((imc_od2*255).astype('uint8')), cv2.COLOR_RGB2BGR))\n",
    "plt.hist(imc_od2.flatten(), bins=100);\n",
    "#plt.imshow(imc_os)\n",
    "#plt.title('OS')\n",
    "#plt.show()"
   ]
  },
  {
   "cell_type": "code",
   "execution_count": null,
   "metadata": {},
   "outputs": [],
   "source": [
    "diff = imc_od2 - imc_od\n",
    "diff = np.abs(diff/np.max(diff))\n",
    "plt.imshow(diff)\n",
    "plt.show()\n",
    "plt.hist(diff.flatten(),bins=100)\n",
    "#cv2.imwrite('./testim_norm_diff.png', cv2.cvtColor(((diff*255).astype('uint8')), cv2.COLOR_RGB2BGR))\n",
    "cv2.imwrite('./testim_norm_diff.png', cv2.cvtColor(((diff*255).astype('uint8')), cv2.COLOR_RGB2BGR))\n"
   ]
  },
  {
   "cell_type": "markdown",
   "metadata": {},
   "source": [
    "### Test checking parameters of camera"
   ]
  },
  {
   "cell_type": "code",
   "execution_count": null,
   "metadata": {},
   "outputs": [],
   "source": [
    "cam_id = \"XECAS1922000\"\n",
    "import ctypes\n",
    "from collections import namedtuple\n",
    "import multiprocessing as mp\n",
    "\n",
    "pout, pin = mp.Pipe(duplex=False)\n",
    "\n",
    "camera = xiapi.Camera()\n",
    "camera.open_device_by_SN(cam_id)\n",
    "xim.apply_cam_settings(camera, 'od.yaml')\n",
    "\n",
    "#params = ['limit_bandwidth_mode', 'limit_bandwidth', 'framerate', 'transport_data_target']\n",
    "#for p in params:\n",
    "#    print(p, camera.get_param(p))\n",
    "\n",
    "camera.start_acquisition()    \n",
    "image = xiapi.Image()\n",
    "camera.get_image(image)\n",
    "#data = (ctypes.c_uint*image.bp_size).from_address(image.bp)\n",
    "data = ctypes.cast(image.bp, ctypes.POINTER(ctypes.c_uint))\n",
    "frame_data = namedtuple(\"frame_data\", \"raw_data nframe tsSec tsUSec\")\n",
    "\n",
    "d = frame_data(data.contents,image.nframe,\n",
    "                    image.tsSec,\n",
    "                   image.tsUSec)\n",
    "pin.send(d)\n",
    "#print(image.transport_frm)\n",
    "\n",
    "camera.close_device()"
   ]
  },
  {
   "cell_type": "code",
   "execution_count": null,
   "metadata": {},
   "outputs": [],
   "source": [
    "a = pout.recv()"
   ]
  },
  {
   "cell_type": "code",
   "execution_count": null,
   "metadata": {},
   "outputs": [],
   "source": [
    "a"
   ]
  },
  {
   "cell_type": "code",
   "execution_count": null,
   "metadata": {},
   "outputs": [],
   "source": [
    "camera.close_device()\n"
   ]
  },
  {
   "cell_type": "code",
   "execution_count": null,
   "metadata": {},
   "outputs": [],
   "source": [
    "ana.plot_camera_timing('./test/timestamps_od.tsv', './test/timestamp_plot_od.png', 'od')\n",
    "ana.plot_camera_timing('./test/timestamps_os.tsv', './test/timestamp_plot_os.png', 'os')\n",
    "ana.plot_camera_timing('/tb_disk/test/timestamps_cy.tsv', './test/timestamp_plot_cy.png', 'cy')\n",
    "\n",
    "ana.plot_camera_dframe('./test/timestamps_od.tsv', './test/dframe_plot_od.png', 'od')\n",
    "ana.plot_camera_dframe('./test/timestamps_os.tsv', './test/dframe_plot_os.png', 'os')\n",
    "ana.plot_camera_dframe('/tb_disk/test/timestamps_cy.tsv', './test/dframe_plot_cy.png', 'cy')\n"
   ]
  },
  {
   "cell_type": "markdown",
   "metadata": {},
   "source": [
    "## Test HD write speed"
   ]
  },
  {
   "cell_type": "code",
   "execution_count": null,
   "metadata": {},
   "outputs": [],
   "source": [
    "import os\n",
    "import time\n",
    "import cProfile\n",
    "import mmap\n",
    "\n",
    "def ioTest():\n",
    "    m = mmap.mmap(-1, 10*1024*1024)\n",
    "    block = bytes('A'*10*1024*1024, 'utf-8')\n",
    "    m.write(block) \n",
    "    filename = './test.bin'\n",
    "    f = os.open(filename, os.O_WRONLY | os.O_CREAT | os.O_TRUNC | os.O_SYNC | os.O_DIRECT)\n",
    "    start = time.time()\n",
    "    for x in range(500):\n",
    "        os.write(f,m)\n",
    "    os.close(f)\n",
    "    transferTime_sec = time.time() - start\n",
    "    msg = 'Wrote {:0f}MB in {:0.03f}s.'\n",
    "    print(msg.format(os.stat(filename).st_size/1024/1024,\n",
    "                     transferTime_sec))\n",
    "cProfile.run('ioTest()')"
   ]
  },
  {
   "cell_type": "code",
   "execution_count": null,
   "metadata": {},
   "outputs": [],
   "source": [
    "import numpy as np\n",
    "dims = (12, 20)\n",
    "np.prod(dims)"
   ]
  },
  {
   "cell_type": "code",
   "execution_count": null,
   "metadata": {},
   "outputs": [],
   "source": []
  },
  {
   "cell_type": "code",
   "execution_count": null,
   "metadata": {},
   "outputs": [],
   "source": [
    "import ximea_cam_aquire_save as aquire\n",
    "import imp\n",
    "import numpy as np\n",
    "import matplotlib.pyplot as plt\n",
    "import imageio\n",
    "import cv2"
   ]
  },
  {
   "cell_type": "markdown",
   "metadata": {},
   "source": [
    "## Bulk Collection"
   ]
  },
  {
   "cell_type": "code",
   "execution_count": null,
   "metadata": {},
   "outputs": [],
   "source": [
    "#settings:\n",
    "num_frames = 10\n",
    "cam_exposure = 1000\n",
    "cam_gain = 20"
   ]
  },
  {
   "cell_type": "code",
   "execution_count": null,
   "metadata": {},
   "outputs": [],
   "source": [
    "imp.reload(aquire)\n",
    "aquire.aquire_save_fullset(num_frames=num_frames, verbose=True, cam_exposure=cam_exposure, cam_gain=cam_gain)\n"
   ]
  },
  {
   "cell_type": "code",
   "execution_count": null,
   "metadata": {},
   "outputs": [],
   "source": [
    "ims = []\n",
    "for i in range(num_frames):\n",
    "    imb = []\n",
    "    with open(f'capture/batch/data_raw_bytes_{i}.bin', 'rb') as f:\n",
    "        byte = f.read(1)\n",
    "        while(byte):\n",
    "            byte = f.read(1)\n",
    "            imb.append(int.from_bytes(byte,'big'))\n",
    "        ims.append(np.array(imb).reshape((1544,2064)))\n",
    "        #ims.append(np.array(imb).reshape((1544,2064)))\n",
    "        #ims.append(np.array(map('|S1',list(imb))).reshape((1544,2064)))\n",
    "        f.close()\n",
    "for i in range(len(ims)):\n",
    "    print(np.shape(np.uint8(ims[i])))\n",
    "    #ims[i] = cv2.cvtColor(np.uint8(ims[i]), cv2.COLOR_BayerGR2RGB)\n",
    "    ims[i] = np.uint8(ims[i])\n",
    "    print(np.shape(ims[i]))\n",
    "    imageio.imwrite(f'capture/batch/img_{i}.jpg', ims[i])"
   ]
  },
  {
   "cell_type": "code",
   "execution_count": null,
   "metadata": {},
   "outputs": [],
   "source": [
    "im = ims[0]\n",
    "#im = cv2.cvtColor(np.uint8(im), cv2.COLOR_BayerGR2RGB)\n",
    "plt.figure(figsize=(10,12))\n",
    "plt.imshow(im)"
   ]
  },
  {
   "cell_type": "code",
   "execution_count": null,
   "metadata": {},
   "outputs": [],
   "source": [
    "from datetime import datetime\n",
    "from PIL import Image\n",
    "#import time\n",
    " \n",
    "def imgDate(fn):\n",
    "    \"returns the image date from image (if available)\\nfrom Orthallelous\"\n",
    "    std_fmt = '%Y:%m:%d %H:%M:%S.%f'\n",
    "    # for subsecond prec, see doi.org/10.3189/2013JoG12J126 , sect. 2.2, 2.3\n",
    "    tags = [(36867, 37521),  # (DateTimeOriginal, SubsecTimeOriginal)\n",
    "            (36868, 37522),  # (DateTimeDigitized, SubsecTimeOriginal)\n",
    "            (306, 37520), ]  # (DateTime, SubsecTime)\n",
    "    exif = Image.open(fn)._getexif()\n",
    " \n",
    "    for t in tags:\n",
    "        dat_stmp = exif.get(t[0])\n",
    "        sub_stmp = exif.get(t[1], 0)\n",
    " \n",
    "        # PIL.PILLOW_VERSION >= 3.0 returns a tuple\n",
    "        dat_stmp = dat_stmp[0] if type(dat_stmp) == tuple else dat_stmp\n",
    "        sub_stmp = sub_stmp[0] if type(sub_stmp) == tuple else sub_stmp\n",
    "        if dat_stmp != None: break\n",
    " \n",
    "    if dat_stmp == None: return None\n",
    "    full = '{}.{}'.format(dat_stmp, sub_stmp)\n",
    "    T = datetime.strptime(full, std_fmt)\n",
    "    T = time.mktime(time.strptime(dT, '%Y:%m:%d %H:%M:%S')) + float('0.%s'%sub)\n",
    "    return T"
   ]
  },
  {
   "cell_type": "code",
   "execution_count": null,
   "metadata": {},
   "outputs": [],
   "source": [
    "Image.open('capture/batch/img_0.jpg')[36867]"
   ]
  },
  {
   "cell_type": "code",
   "execution_count": null,
   "metadata": {},
   "outputs": [],
   "source": []
  },
  {
   "cell_type": "code",
   "execution_count": null,
   "metadata": {},
   "outputs": [],
   "source": [
    "#line profile experiment running\n",
    "imp.reload(runexp)\n",
    "lp = LineProfiler()\n",
    "# lp_wrapper = lp(runexp.run_experiment)\n",
    "# lp_wrapper(subject_name=subject, \n",
    "#                       task_name=task, \n",
    "#                       exp_type=exp,\n",
    "#                       save_dir=capture_dir,\n",
    "#                       max_frames=frames)\n",
    "lp_wrapper = lp(runexp.run_ximea_aquisition)\n",
    "lp_wrapper('./capture/line_profile_test', 200, 1000)\n",
    "lp.print_stats()"
   ]
  },
  {
   "cell_type": "code",
   "execution_count": null,
   "metadata": {},
   "outputs": [],
   "source": [
    "imp.reload(runana)\n",
    "runana.run_analysis(subject_name=subject, \n",
    "                      task_name=task, \n",
    "                      exp_type=exp,\n",
    "                      read_dir=capture_dir,\n",
    "                      save_dir=analysis_dir,\n",
    "                      run_timestamp_stats=True,\n",
    "                      run_convert_ims=True\n",
    "                      )"
   ]
  },
  {
   "cell_type": "code",
   "execution_count": null,
   "metadata": {},
   "outputs": [],
   "source": [
    "im = cv2.imread('./analysis/test_subject/test_task/exp/scene_camera/cam_od/frame_0.png')\n",
    "plt.imshow(im)\n",
    "plt.show()\n",
    "plt.hist(im.flatten())"
   ]
  },
  {
   "cell_type": "code",
   "execution_count": null,
   "metadata": {},
   "outputs": [],
   "source": [
    "\n",
    "f= 'capture/test_subject/test_task/exp/scene_camera/cam_od/frame_0.bin'\n",
    "a = []\n",
    "# # for uint16\n",
    "# with open(f, 'rb') as fn:\n",
    "#     bss = fn.read(2)\n",
    "#     while(bss):\n",
    "#         bss = fn.read(1)\n",
    "#         bbs = fn.read(1)\n",
    "#         bs = int.from_bytes(bss,'big')\n",
    "#         bb = int.from_bytes(bbs,'big')\n",
    "#         s = 256*bb+bs\n",
    "#         a.append(s)\n",
    "\n",
    "# for uint8\n",
    "with open(f, 'rb') as fn:\n",
    "    bs = fn.read(1)\n",
    "    while(bs):\n",
    "        bs = fn.read(1)\n",
    "        bs = int.from_bytes(bs,'big')\n",
    "        a.append(bs)\n",
    "\n",
    "a = np.array(a)"
   ]
  },
  {
   "cell_type": "code",
   "execution_count": null,
   "metadata": {},
   "outputs": [],
   "source": [
    "plt.hist(np.array(a).flatten(), bins=1000);"
   ]
  },
  {
   "cell_type": "code",
   "execution_count": null,
   "metadata": {},
   "outputs": [],
   "source": [
    "im = a.reshape((1544,2064))\n",
    "imc = cv2.cvtColor(np.uint16(im), cv2.COLOR_BayerGR2RGB)"
   ]
  },
  {
   "cell_type": "code",
   "execution_count": null,
   "metadata": {},
   "outputs": [],
   "source": [
    "plt.imshow(im)\n",
    "plt.show()\n",
    "plt.imshow(imc)\n",
    "plt.show()"
   ]
  },
  {
   "cell_type": "code",
   "execution_count": null,
   "metadata": {},
   "outputs": [],
   "source": [
    "cv2.imwrite('test.png',imc.astype('float64'))\n",
    "imcr = cv2.imread('test.png')\n",
    "plt.imshow(imcr)\n",
    "plt.show()\n",
    "imcrw = cv2.balanceWhite(imcr)\n",
    "plt.imshow(imcrw)\n",
    "plt.show()\n"
   ]
  },
  {
   "cell_type": "code",
   "execution_count": null,
   "metadata": {},
   "outputs": [],
   "source": [
    "plt.hist(np.array(imc).flatten(), bins=1000);"
   ]
  },
  {
   "cell_type": "code",
   "execution_count": null,
   "metadata": {},
   "outputs": [],
   "source": [
    "plt.hist(np.array(imc.astype('float64')).flatten(), bins=1000);"
   ]
  },
  {
   "cell_type": "code",
   "execution_count": null,
   "metadata": {},
   "outputs": [],
   "source": [
    "plt.hist(np.array(imcr).flatten(), bins=1000);"
   ]
  }
 ],
 "metadata": {
  "kernelspec": {
   "display_name": "Python 3",
   "language": "python",
   "name": "python3"
  },
  "language_info": {
   "codemirror_mode": {
    "name": "ipython",
    "version": 3
   },
   "file_extension": ".py",
   "mimetype": "text/x-python",
   "name": "python",
   "nbconvert_exporter": "python",
   "pygments_lexer": "ipython3",
   "version": "3.7.4"
  }
 },
 "nbformat": 4,
 "nbformat_minor": 4
}
