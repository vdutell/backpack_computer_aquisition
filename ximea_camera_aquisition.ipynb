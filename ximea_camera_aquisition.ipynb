{
 "cells": [
  {
   "cell_type": "markdown",
   "metadata": {},
   "source": [
    "# Capture for Ximea Cameras\n",
    "\n",
    "https://www.ximea.com/support/wiki/apis/XiAPI_Manual"
   ]
  },
  {
   "cell_type": "code",
   "execution_count": 5,
   "metadata": {},
   "outputs": [],
   "source": [
    "import ximea_cam_aquire_save as aquire\n",
    "import imp\n",
    "import numpy as np\n",
    "import matplotlib.pyplot as plt\n",
    "import imageio\n",
    "import cv2"
   ]
  },
  {
   "cell_type": "markdown",
   "metadata": {},
   "source": [
    "## Bulk Collection"
   ]
  },
  {
   "cell_type": "code",
   "execution_count": 6,
   "metadata": {},
   "outputs": [],
   "source": [
    "#settings:\n",
    "num_frames = 10\n",
    "cam_exposure = 1000\n",
    "cam_gain = 20"
   ]
  },
  {
   "cell_type": "code",
   "execution_count": 8,
   "metadata": {},
   "outputs": [
    {
     "ename": "AttributeError",
     "evalue": "module 'ximea_cam_aquire_save' has no attribute 'aquire_save_fullset'",
     "output_type": "error",
     "traceback": [
      "\u001b[0;31m---------------------------------------------------------------------------\u001b[0m",
      "\u001b[0;31mAttributeError\u001b[0m                            Traceback (most recent call last)",
      "\u001b[0;32m<ipython-input-8-dbed6cd45474>\u001b[0m in \u001b[0;36m<module>\u001b[0;34m\u001b[0m\n\u001b[1;32m      1\u001b[0m \u001b[0mimp\u001b[0m\u001b[0;34m.\u001b[0m\u001b[0mreload\u001b[0m\u001b[0;34m(\u001b[0m\u001b[0maquire\u001b[0m\u001b[0;34m)\u001b[0m\u001b[0;34m\u001b[0m\u001b[0;34m\u001b[0m\u001b[0m\n\u001b[0;32m----> 2\u001b[0;31m \u001b[0maquire\u001b[0m\u001b[0;34m.\u001b[0m\u001b[0maquire_save_fullset\u001b[0m\u001b[0;34m(\u001b[0m\u001b[0mnum_frames\u001b[0m\u001b[0;34m=\u001b[0m\u001b[0mnum_frames\u001b[0m\u001b[0;34m,\u001b[0m \u001b[0mverbose\u001b[0m\u001b[0;34m=\u001b[0m\u001b[0;32mTrue\u001b[0m\u001b[0;34m,\u001b[0m \u001b[0mcam_exposure\u001b[0m\u001b[0;34m=\u001b[0m\u001b[0mcam_exposure\u001b[0m\u001b[0;34m,\u001b[0m \u001b[0mcam_gain\u001b[0m\u001b[0;34m=\u001b[0m\u001b[0mcam_gain\u001b[0m\u001b[0;34m)\u001b[0m\u001b[0;34m\u001b[0m\u001b[0;34m\u001b[0m\u001b[0m\n\u001b[0m",
      "\u001b[0;31mAttributeError\u001b[0m: module 'ximea_cam_aquire_save' has no attribute 'aquire_save_fullset'"
     ]
    }
   ],
   "source": [
    "imp.reload(aquire)\n",
    "aquire.aquire_save_fullset(num_frames=num_frames, verbose=True, cam_exposure=cam_exposure, cam_gain=cam_gain)\n"
   ]
  },
  {
   "cell_type": "code",
   "execution_count": 4,
   "metadata": {},
   "outputs": [
    {
     "ename": "KeyboardInterrupt",
     "evalue": "",
     "output_type": "error",
     "traceback": [
      "\u001b[0;31m---------------------------------------------------------------------------\u001b[0m",
      "\u001b[0;31mKeyboardInterrupt\u001b[0m                         Traceback (most recent call last)",
      "\u001b[0;32m<ipython-input-4-953e304646c9>\u001b[0m in \u001b[0;36m<module>\u001b[0;34m\u001b[0m\n\u001b[1;32m      5\u001b[0m         \u001b[0mbyte\u001b[0m \u001b[0;34m=\u001b[0m \u001b[0mf\u001b[0m\u001b[0;34m.\u001b[0m\u001b[0mread\u001b[0m\u001b[0;34m(\u001b[0m\u001b[0;36m1\u001b[0m\u001b[0;34m)\u001b[0m\u001b[0;34m\u001b[0m\u001b[0;34m\u001b[0m\u001b[0m\n\u001b[1;32m      6\u001b[0m         \u001b[0;32mwhile\u001b[0m\u001b[0;34m(\u001b[0m\u001b[0mbyte\u001b[0m\u001b[0;34m)\u001b[0m\u001b[0;34m:\u001b[0m\u001b[0;34m\u001b[0m\u001b[0;34m\u001b[0m\u001b[0m\n\u001b[0;32m----> 7\u001b[0;31m             \u001b[0mbyte\u001b[0m \u001b[0;34m=\u001b[0m \u001b[0mf\u001b[0m\u001b[0;34m.\u001b[0m\u001b[0mread\u001b[0m\u001b[0;34m(\u001b[0m\u001b[0;36m1\u001b[0m\u001b[0;34m)\u001b[0m\u001b[0;34m\u001b[0m\u001b[0;34m\u001b[0m\u001b[0m\n\u001b[0m\u001b[1;32m      8\u001b[0m             \u001b[0mimb\u001b[0m\u001b[0;34m.\u001b[0m\u001b[0mappend\u001b[0m\u001b[0;34m(\u001b[0m\u001b[0mint\u001b[0m\u001b[0;34m.\u001b[0m\u001b[0mfrom_bytes\u001b[0m\u001b[0;34m(\u001b[0m\u001b[0mbyte\u001b[0m\u001b[0;34m,\u001b[0m\u001b[0;34m'big'\u001b[0m\u001b[0;34m)\u001b[0m\u001b[0;34m)\u001b[0m\u001b[0;34m\u001b[0m\u001b[0;34m\u001b[0m\u001b[0m\n\u001b[1;32m      9\u001b[0m         \u001b[0mims\u001b[0m\u001b[0;34m.\u001b[0m\u001b[0mappend\u001b[0m\u001b[0;34m(\u001b[0m\u001b[0mnp\u001b[0m\u001b[0;34m.\u001b[0m\u001b[0marray\u001b[0m\u001b[0;34m(\u001b[0m\u001b[0mimb\u001b[0m\u001b[0;34m)\u001b[0m\u001b[0;34m.\u001b[0m\u001b[0mreshape\u001b[0m\u001b[0;34m(\u001b[0m\u001b[0;34m(\u001b[0m\u001b[0;36m1544\u001b[0m\u001b[0;34m,\u001b[0m\u001b[0;36m2064\u001b[0m\u001b[0;34m)\u001b[0m\u001b[0;34m)\u001b[0m\u001b[0;34m)\u001b[0m\u001b[0;34m\u001b[0m\u001b[0;34m\u001b[0m\u001b[0m\n",
      "\u001b[0;31mKeyboardInterrupt\u001b[0m: "
     ]
    }
   ],
   "source": [
    "ims = []\n",
    "for i in range(num_frames):\n",
    "    imb = []\n",
    "    with open(f'capture/batch/data_raw_bytes_{i}.bin', 'rb') as f:\n",
    "        byte = f.read(1)\n",
    "        while(byte):\n",
    "            byte = f.read(1)\n",
    "            imb.append(int.from_bytes(byte,'big'))\n",
    "        ims.append(np.array(imb).reshape((1544,2064)))\n",
    "        #ims.append(np.array(imb).reshape((1544,2064)))\n",
    "        #ims.append(np.array(map('|S1',list(imb))).reshape((1544,2064)))\n",
    "        f.close()\n",
    "for i in range(len(ims)):\n",
    "    print(np.shape(np.uint8(ims[i])))\n",
    "    #ims[i] = cv2.cvtColor(np.uint8(ims[i]), cv2.COLOR_BayerGR2RGB)\n",
    "    ims[i] = np.uint8(ims[i])\n",
    "    print(np.shape(ims[i]))\n",
    "    imageio.imwrite(f'capture/batch/img_{i}.jpg', ims[i])"
   ]
  },
  {
   "cell_type": "code",
   "execution_count": null,
   "metadata": {},
   "outputs": [],
   "source": [
    "im = ims[0]\n",
    "#im = cv2.cvtColor(np.uint8(im), cv2.COLOR_BayerGR2RGB)\n",
    "plt.figure(figsize=(10,12))\n",
    "plt.imshow(im)"
   ]
  },
  {
   "cell_type": "code",
   "execution_count": null,
   "metadata": {},
   "outputs": [],
   "source": [
    "from datetime import datetime\n",
    "from PIL import Image\n",
    "#import time\n",
    " \n",
    "def imgDate(fn):\n",
    "    \"returns the image date from image (if available)\\nfrom Orthallelous\"\n",
    "    std_fmt = '%Y:%m:%d %H:%M:%S.%f'\n",
    "    # for subsecond prec, see doi.org/10.3189/2013JoG12J126 , sect. 2.2, 2.3\n",
    "    tags = [(36867, 37521),  # (DateTimeOriginal, SubsecTimeOriginal)\n",
    "            (36868, 37522),  # (DateTimeDigitized, SubsecTimeOriginal)\n",
    "            (306, 37520), ]  # (DateTime, SubsecTime)\n",
    "    exif = Image.open(fn)._getexif()\n",
    " \n",
    "    for t in tags:\n",
    "        dat_stmp = exif.get(t[0])\n",
    "        sub_stmp = exif.get(t[1], 0)\n",
    " \n",
    "        # PIL.PILLOW_VERSION >= 3.0 returns a tuple\n",
    "        dat_stmp = dat_stmp[0] if type(dat_stmp) == tuple else dat_stmp\n",
    "        sub_stmp = sub_stmp[0] if type(sub_stmp) == tuple else sub_stmp\n",
    "        if dat_stmp != None: break\n",
    " \n",
    "    if dat_stmp == None: return None\n",
    "    full = '{}.{}'.format(dat_stmp, sub_stmp)\n",
    "    T = datetime.strptime(full, std_fmt)\n",
    "    T = time.mktime(time.strptime(dT, '%Y:%m:%d %H:%M:%S')) + float('0.%s'%sub)\n",
    "    return T"
   ]
  },
  {
   "cell_type": "code",
   "execution_count": null,
   "metadata": {},
   "outputs": [],
   "source": [
    "Image.open('capture/batch/img_0.jpg')[36867]"
   ]
  },
  {
   "cell_type": "code",
   "execution_count": null,
   "metadata": {},
   "outputs": [],
   "source": []
  }
 ],
 "metadata": {
  "kernelspec": {
   "display_name": "Python 3",
   "language": "python",
   "name": "python3"
  },
  "language_info": {
   "codemirror_mode": {
    "name": "ipython",
    "version": 3
   },
   "file_extension": ".py",
   "mimetype": "text/x-python",
   "name": "python",
   "nbconvert_exporter": "python",
   "pygments_lexer": "ipython3",
   "version": "3.6.8"
  }
 },
 "nbformat": 4,
 "nbformat_minor": 2
}
